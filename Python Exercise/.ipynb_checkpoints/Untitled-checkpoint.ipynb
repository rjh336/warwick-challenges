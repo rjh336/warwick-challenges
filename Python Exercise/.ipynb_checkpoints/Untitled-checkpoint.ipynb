{
 "cells": [
  {
   "cell_type": "code",
   "execution_count": 47,
   "metadata": {
    "ExecuteTime": {
     "end_time": "2018-02-02T02:59:53.924812Z",
     "start_time": "2018-02-02T02:59:50.703976Z"
    }
   },
   "outputs": [
    {
     "name": "stdout",
     "output_type": "stream",
     "text": [
      "Collecting unittest\n",
      "\u001b[31m  Could not find a version that satisfies the requirement unittest (from versions: )\u001b[0m\n",
      "\u001b[31mNo matching distribution found for unittest\u001b[0m\n"
     ]
    }
   ],
   "source": [
    "!pip install unittest"
   ]
  },
  {
   "cell_type": "code",
   "execution_count": 1,
   "metadata": {
    "ExecuteTime": {
     "end_time": "2018-02-02T02:20:19.468845Z",
     "start_time": "2018-02-02T02:20:19.464281Z"
    },
    "collapsed": true
   },
   "outputs": [],
   "source": [
    "import re"
   ]
  },
  {
   "cell_type": "code",
   "execution_count": 46,
   "metadata": {
    "ExecuteTime": {
     "end_time": "2018-02-02T02:59:35.502385Z",
     "start_time": "2018-02-02T02:59:35.489053Z"
    }
   },
   "outputs": [],
   "source": [
    "def check_ip(ip):\n",
    "    regex = re.compile(\"\\A(?P<one>[0-9]{,3})\\.(?P<two>[0-9]{,3})\\.(?P<three>[0-9]{,3})\\.(?P<four>[0-9]{,3})\\Z\")\n",
    "    groups = regex.groupindex.keys()\n",
    "    match_obj = re.match(regex, ip)\n",
    "    if match_obj:\n",
    "        for g in groups:\n",
    "            number = int(match_obj.group(g))\n",
    "            if not(number >= 0 and number <= 255):\n",
    "                print(\"Invalid Address:  position {} not in range 0-255\".format(g))\n",
    "                break\n",
    "        for i, segment in enumerate(match_obj.groups()):\n",
    "            print(\"segment {} contains {} of length {}\".format(i, segment, len(segment)))\n",
    "    else:\n",
    "        print(\"Invalid Address:  Input string does not match the sequence '{0-255}.{0-255}.{0-255}.{0-255}'\")"
   ]
  },
  {
   "cell_type": "code",
   "execution_count": 48,
   "metadata": {
    "ExecuteTime": {
     "end_time": "2018-02-02T03:39:03.821248Z",
     "start_time": "2018-02-02T03:39:03.694039Z"
    },
    "collapsed": true
   },
   "outputs": [],
   "source": [
    "import numpy as np"
   ]
  },
  {
   "cell_type": "code",
   "execution_count": 57,
   "metadata": {
    "ExecuteTime": {
     "end_time": "2018-02-02T03:46:27.566983Z",
     "start_time": "2018-02-02T03:46:27.563378Z"
    }
   },
   "outputs": [],
   "source": [
    "img = np.random.choice([0,1], size=(10,10), p=[0.95,0.05])"
   ]
  },
  {
   "cell_type": "code",
   "execution_count": 58,
   "metadata": {
    "ExecuteTime": {
     "end_time": "2018-02-02T03:46:29.513986Z",
     "start_time": "2018-02-02T03:46:29.508519Z"
    }
   },
   "outputs": [
    {
     "data": {
      "text/plain": [
       "array([[0, 1, 0, 0, 0, 0, 1, 0, 0, 0],\n",
       "       [0, 0, 0, 0, 0, 0, 0, 0, 0, 0],\n",
       "       [0, 0, 0, 0, 0, 0, 0, 0, 0, 0],\n",
       "       [0, 1, 0, 0, 0, 0, 0, 0, 0, 0],\n",
       "       [0, 0, 0, 0, 0, 0, 0, 0, 0, 1],\n",
       "       [0, 0, 0, 0, 0, 0, 0, 0, 0, 0],\n",
       "       [1, 0, 0, 0, 0, 0, 0, 0, 0, 0],\n",
       "       [0, 0, 0, 1, 0, 0, 0, 1, 0, 0],\n",
       "       [0, 0, 0, 0, 0, 0, 0, 0, 0, 0],\n",
       "       [0, 0, 0, 0, 0, 0, 0, 0, 0, 0]])"
      ]
     },
     "execution_count": 58,
     "metadata": {},
     "output_type": "execute_result"
    }
   ],
   "source": [
    "img"
   ]
  },
  {
   "cell_type": "code",
   "execution_count": 66,
   "metadata": {
    "ExecuteTime": {
     "end_time": "2018-02-02T04:14:48.574197Z",
     "start_time": "2018-02-02T04:14:48.571557Z"
    },
    "collapsed": true
   },
   "outputs": [],
   "source": [
    "from copy import deepcopy"
   ]
  },
  {
   "cell_type": "code",
   "execution_count": 103,
   "metadata": {
    "ExecuteTime": {
     "end_time": "2018-02-02T04:46:02.127181Z",
     "start_time": "2018-02-02T04:46:02.122825Z"
    }
   },
   "outputs": [
    {
     "data": {
      "text/plain": [
       "True"
      ]
     },
     "execution_count": 103,
     "metadata": {},
     "output_type": "execute_result"
    }
   ],
   "source": [
    "\"None\" is not None"
   ]
  },
  {
   "cell_type": "code",
   "execution_count": 267,
   "metadata": {
    "ExecuteTime": {
     "end_time": "2018-02-02T06:12:26.820178Z",
     "start_time": "2018-02-02T06:12:26.815682Z"
    }
   },
   "outputs": [
    {
     "data": {
      "text/plain": [
       "numpy.ndarray"
      ]
     },
     "execution_count": 267,
     "metadata": {},
     "output_type": "execute_result"
    }
   ],
   "source": [
    "type(np.array([1]))"
   ]
  },
  {
   "cell_type": "code",
   "execution_count": 104,
   "metadata": {
    "ExecuteTime": {
     "end_time": "2018-02-02T04:46:49.521105Z",
     "start_time": "2018-02-02T04:46:49.516500Z"
    }
   },
   "outputs": [
    {
     "data": {
      "text/plain": [
       "(10, 10)"
      ]
     },
     "execution_count": 104,
     "metadata": {},
     "output_type": "execute_result"
    }
   ],
   "source": [
    "np.concatenate()"
   ]
  },
  {
   "cell_type": "code",
   "execution_count": 239,
   "metadata": {
    "ExecuteTime": {
     "end_time": "2018-02-02T05:52:52.676494Z",
     "start_time": "2018-02-02T05:52:52.673093Z"
    }
   },
   "outputs": [],
   "source": [
    "from pprint import pprint"
   ]
  },
  {
   "cell_type": "code",
   "execution_count": 268,
   "metadata": {
    "ExecuteTime": {
     "end_time": "2018-02-02T06:45:51.386794Z",
     "start_time": "2018-02-02T06:45:51.296619Z"
    }
   },
   "outputs": [],
   "source": [
    "def manhattan_blur(n, k, distance, p=0.1, img=None):\n",
    "    \"\"\" manhattan_blur(n, k, distance, p=0.1, img=None) -> numpy.ndarray\n",
    "    \n",
    "        Function to produce Manhattan Distance Blur Transformation of\n",
    "        y-length distance on an image (represented as numpy array with\n",
    "        binary values [0, 1]). Pixels are represented by cells of the array.\n",
    "        \n",
    "        Parameters\n",
    "        ==========\n",
    "        n (int): number of rows\n",
    "        k (int): number of columns\n",
    "        distance (int): Manhattan distance in number of pixels\n",
    "        p (float): Pixel probability of beginning with 1\n",
    "        img (numpy.ndarray): optional - 2D array to begin with\"\"\"\n",
    "    \n",
    "    if img is None:\n",
    "        # create randomized img with specified p (probability)\n",
    "        img = np.random.choice([0,1], size=(n,k), p=[1-p,p])\n",
    "        if img.sum() == 0:\n",
    "            # ensure there is at least one pixel filled in\n",
    "            img[np.random.randint(0,n), np.random.randint(0,k)] = 1\n",
    "    else:\n",
    "        n = img.shape[0]\n",
    "        k = img.shape[1]\n",
    "    # holds activated pixel coordinates\n",
    "    existing_ones = []\n",
    "    # holds pixel coordinates to be updated\n",
    "    new_ones = []\n",
    "    # initialize existing_ones by searching for 1's\n",
    "    for x, row in enumerate(img):\n",
    "        if row.sum() > 0:\n",
    "            for y, coord in enumerate(row):\n",
    "                if img[x,y] > 0:\n",
    "                    existing_ones.append([x,y])\n",
    "    \n",
    "    # update the img 'distance' times unless d>n or d>k\n",
    "    for _ in range(min(distance, n, k)):\n",
    "        # update row coordinates with 1's\n",
    "        update_ns = np.array(existing_ones).transpose()[0]\n",
    "        # update column coordinates with 1's\n",
    "        update_ks = np.array(existing_ones).transpose()[1]\n",
    "        # index img for these coordinate pairs and update the pixel values\n",
    "        img[update_ns, update_ks] = 1\n",
    "        # add existing_ones' immediately surrounding pixels to new_ones\n",
    "        for coord in existing_ones:\n",
    "            if coord[0]-1 >= 0:\n",
    "                new_ones.append([coord[0]-1, coord[1]])\n",
    "            if coord[0]+1 < n:\n",
    "                new_ones.append([coord[0]+1, coord[1]])\n",
    "            if coord[1]-1 >= 0:\n",
    "                new_ones.append([coord[0], coord[1]-1])\n",
    "            if coord[1]+1 < k:\n",
    "                new_ones.append([coord[0], coord[1]+1])\n",
    "        # update the pixel values using coordinates in new_ones\n",
    "        update_ns = np.array(new_ones).transpose()[0]\n",
    "        update_ks = np.array(new_ones).transpose()[1]\n",
    "        img[update_ns, update_ks] = 1\n",
    "        # assign new_ones to existing_ones\n",
    "        existing_ones = deepcopy(new_ones)\n",
    "        new_ones = []\n",
    "    return img"
   ]
  },
  {
   "cell_type": "code",
   "execution_count": 269,
   "metadata": {
    "ExecuteTime": {
     "end_time": "2018-02-02T06:45:53.308556Z",
     "start_time": "2018-02-02T06:45:53.305241Z"
    },
    "collapsed": true
   },
   "outputs": [],
   "source": [
    "test = np.array([[0, 0, 0, 1, 0],[0, 0, 0, 0, 0],[0, 0, 0, 0, 0]])"
   ]
  },
  {
   "cell_type": "code",
   "execution_count": 265,
   "metadata": {
    "ExecuteTime": {
     "end_time": "2018-02-02T06:04:39.651387Z",
     "start_time": "2018-02-02T06:04:39.646343Z"
    }
   },
   "outputs": [
    {
     "name": "stdout",
     "output_type": "stream",
     "text": [
      "[[0 0 1 1 1]\n",
      " [0 0 0 1 0]\n",
      " [0 0 0 0 0]]\n",
      "\n",
      "\n",
      "[[0 1 1 1 1]\n",
      " [0 0 1 1 1]\n",
      " [0 0 0 1 0]]\n"
     ]
    }
   ],
   "source": [
    "img=manhattan_blur(3,5,1,img=test)"
   ]
  }
 ],
 "metadata": {
  "kernelspec": {
   "display_name": "Python [conda root]",
   "language": "python",
   "name": "conda-root-py"
  },
  "language_info": {
   "codemirror_mode": {
    "name": "ipython",
    "version": 3
   },
   "file_extension": ".py",
   "mimetype": "text/x-python",
   "name": "python",
   "nbconvert_exporter": "python",
   "pygments_lexer": "ipython3",
   "version": "3.6.3"
  },
  "varInspector": {
   "cols": {
    "lenName": 16,
    "lenType": 16,
    "lenVar": 40
   },
   "kernels_config": {
    "python": {
     "delete_cmd_postfix": "",
     "delete_cmd_prefix": "del ",
     "library": "var_list.py",
     "varRefreshCmd": "print(var_dic_list())"
    },
    "r": {
     "delete_cmd_postfix": ") ",
     "delete_cmd_prefix": "rm(",
     "library": "var_list.r",
     "varRefreshCmd": "cat(var_dic_list()) "
    }
   },
   "types_to_exclude": [
    "module",
    "function",
    "builtin_function_or_method",
    "instance",
    "_Feature"
   ],
   "window_display": false
  }
 },
 "nbformat": 4,
 "nbformat_minor": 2
}
